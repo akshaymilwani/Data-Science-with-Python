{
 "cells": [
  {
   "cell_type": "code",
   "execution_count": null,
   "metadata": {},
   "outputs": [],
   "source": [
    "##Predict whether the mushroom is poisonous or edible.\n",
    "#More details about the dataset can be found at this link: https://www.kaggle.com/uciml/mushroom-classification"
   ]
  },
  {
   "cell_type": "code",
   "execution_count": 89,
   "metadata": {},
   "outputs": [
    {
     "name": "stdout",
     "output_type": "stream",
     "text": [
      "   class_e  class_p  cap-shape_b  cap-shape_c  cap-shape_f  cap-shape_k  \\\n",
      "0        0        1            0            0            0            0   \n",
      "1        1        0            0            0            0            0   \n",
      "2        1        0            1            0            0            0   \n",
      "3        0        1            0            0            0            0   \n",
      "4        1        0            0            0            0            0   \n",
      "\n",
      "   cap-shape_s  cap-shape_x  cap-surface_f  cap-surface_g    ...      \\\n",
      "0            0            1              0              0    ...       \n",
      "1            0            1              0              0    ...       \n",
      "2            0            0              0              0    ...       \n",
      "3            0            1              0              0    ...       \n",
      "4            0            1              0              0    ...       \n",
      "\n",
      "   population_s  population_v  population_y  habitat_d  habitat_g  habitat_l  \\\n",
      "0             1             0             0          0          0          0   \n",
      "1             0             0             0          0          1          0   \n",
      "2             0             0             0          0          0          0   \n",
      "3             1             0             0          0          0          0   \n",
      "4             0             0             0          0          1          0   \n",
      "\n",
      "   habitat_m  habitat_p  habitat_u  habitat_w  \n",
      "0          0          0          1          0  \n",
      "1          0          0          0          0  \n",
      "2          1          0          0          0  \n",
      "3          0          0          1          0  \n",
      "4          0          0          0          0  \n",
      "\n",
      "[5 rows x 119 columns]\n",
      "[[-0.99624519 -0.94689159  0.802493   ...  0.91601427  0.17067083\n",
      "   0.9355924 ]\n",
      " [-1.44173282 -0.16415415  1.06817493 ...  0.1573723  -0.69177125\n",
      "  -0.33117611]\n",
      " [-1.52408477 -0.40874596  0.85317156 ...  0.00252524 -0.4233859\n",
      "  -0.26400125]\n",
      " ...\n",
      " [-0.28781671 -0.32621374  0.27466376 ...  1.78247291 -0.57962468\n",
      "   0.13495609]\n",
      " [ 1.93043302 -1.57316304 -0.11575038 ...  0.3501071   0.38182239\n",
      "  -0.1904462 ]\n",
      " [-0.24929719 -0.31229216  0.36186798 ...  1.76212974 -0.91100157\n",
      "   0.05463519]]\n",
      "[0 1 1 ... 0 0 1]\n",
      "[[1002   64]\n",
      " [  38  927]]\n",
      "0.9497784342688331\n"
     ]
    }
   ],
   "source": [
    "import pandas as pd\n",
    "import numpy as np\n",
    "from sklearn.linear_model import LogisticRegression\n",
    "from sklearn.model_selection import train_test_split\n",
    "from sklearn.metrics import confusion_matrix\n",
    "from sklearn.preprocessing import OneHotEncoder\n",
    "from sklearn.preprocessing import LabelEncoder\n",
    "from sklearn.decomposition import PCA\n",
    "\n",
    "#Read the csv file\n",
    "df = pd.read_csv(r'C:\\Users\\akshay\\Desktop\\mushrooms.csv')\n",
    "\n",
    "#Convert the objects into categories\n",
    "df[df.columns[0:23]] = df[df.columns[0:23]].astype('category')\n",
    "\n",
    "#Perform One Hot Encoding to convert the categorical variables into binary variables\n",
    "df_enc = pd.get_dummies(df)\n",
    "#print (list(df_enc))\n",
    "print(df_enc.head())\n",
    "\n",
    "#Select features and target variable\n",
    "features = df_enc.loc[:,'cap-shape_b':'habitat_w']\n",
    "X = features.values\n",
    "y = df_enc['class_p'].values\n",
    "\n",
    "#Perform principal component analysis(PCA) to select n_components that affect the target variable the most\n",
    "pca = PCA(n_components=10)\n",
    "X_pca = pca.fit_transform(X)\n",
    "print(X_pca)\n",
    "\n",
    "#Perform logistic regression\n",
    "logreg = LogisticRegression()\n",
    "X_train, X_test, y_train, y_test = train_test_split(X_pca, y, random_state=42)\n",
    "\n",
    "logreg.fit(X_train, y_train)\n",
    "y_pred = logreg.predict(X_test)\n",
    "print(y_pred)\n",
    "\n",
    "#Print the confusion matrix\n",
    "conf = confusion_matrix(y_pred, y_test)\n",
    "print(conf)\n",
    "\n",
    "# Print the accuracy\n",
    "print(logreg.score(X_test, y_test))\n",
    "\n"
   ]
  },
  {
   "cell_type": "code",
   "execution_count": null,
   "metadata": {},
   "outputs": [],
   "source": []
  }
 ],
 "metadata": {
  "kernelspec": {
   "display_name": "Python 3",
   "language": "python",
   "name": "python3"
  },
  "language_info": {
   "codemirror_mode": {
    "name": "ipython",
    "version": 3
   },
   "file_extension": ".py",
   "mimetype": "text/x-python",
   "name": "python",
   "nbconvert_exporter": "python",
   "pygments_lexer": "ipython3",
   "version": "3.6.5"
  }
 },
 "nbformat": 4,
 "nbformat_minor": 2
}
