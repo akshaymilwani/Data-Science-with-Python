{
 "cells": [
  {
   "cell_type": "code",
   "execution_count": null,
   "metadata": {},
   "outputs": [],
   "source": [
    "##The aim of the analysis is to develop a predictive model that can predict whether the cancer is benign or malignant.\n",
    "#Four different approaches - Logistic Regression, Support Vector Machines(SVM), Random Forest and Decision Tree Classification - have been used to develop different models in order to identify which one performs the best in this case.\n",
    "# More details about the dataset can be found at this link: https://www.kaggle.com/uciml/breast-cancer-wisconsin-data\n",
    "\n"
   ]
  },
  {
   "cell_type": "code",
   "execution_count": 2,
   "metadata": {},
   "outputs": [
    {
     "name": "stdout",
     "output_type": "stream",
     "text": [
      "[[106   4]\n",
      " [  2  59]]\n",
      "0.9649122807017544\n",
      "Prediction: ['M']\n"
     ]
    }
   ],
   "source": [
    "##The aim of the analysis is to develop a predictive model that can predict whether the cancer is benign or malignant.\n",
    "#Four different approaches - Logistic Regression, Support Vector Machines(SVM), Random Forest and Decision Tree Classification - have been used to develop three different models in order to identify which one performs the best in this case.\n",
    "# More details about the dataset can be found at this link: https://www.kaggle.com/uciml/breast-cancer-wisconsin-data\n",
    "\n",
    "#Approach1: Solve using Logistic Regression\n",
    "\n",
    "from sklearn.linear_model import LogisticRegression\n",
    "from sklearn.model_selection import train_test_split\n",
    "from sklearn.metrics import confusion_matrix\n",
    "import pandas as pd\n",
    "\n",
    "df = pd.read_csv(r'E:\\HSI\\White paper\\Datasets\\UCI\\Predict whether the cancer is benign or malignant\\cancer data.csv')\n",
    "\n",
    "y = df['diagnosis'].values\n",
    "X = df[df.columns[2:32]]\n",
    "\n",
    "logreg = LogisticRegression()\n",
    "\n",
    "X_train, X_test, y_train, y_test = train_test_split(X, y, test_size=0.3, random_state=42)\n",
    "\n",
    "logreg.fit(X_train, y_train)\n",
    "y_pred = logreg.predict(X_test)\n",
    "\n",
    "conf = confusion_matrix(y_pred, y_test)\n",
    "print(conf)\n",
    "\n",
    "# Print the accuracy\n",
    "print(logreg.score(X_test, y_test))\n",
    "\n",
    "X_new = [[14, 21, 91, 578, 0.12, 0.17, 0.094, 0.06, 0.22, 0.075, 0.58, 1.38, 3.86, 50.96, 0.009, 0.03, 0.025, 0.015, 0.015, 0.005, 17.2, 28.2, 111, 898, 0.166, 0.369, 0.268, 0.156, 0.32, 0.115]]\n",
    "\n",
    "new_prediction = logreg.predict(X_new)\n",
    "print(\"Prediction: {}\".format(new_prediction))\n"
   ]
  },
  {
   "cell_type": "code",
   "execution_count": 3,
   "metadata": {},
   "outputs": [
    {
     "name": "stdout",
     "output_type": "stream",
     "text": [
      "[[108  63]\n",
      " [  0   0]]\n",
      "0.631578947368421\n",
      "Prediction: ['M']\n"
     ]
    }
   ],
   "source": [
    "#Approach 2: Solve using Support Vector Machines(SVM)\n",
    "\n",
    "from sklearn.svm import SVC\n",
    "from sklearn.model_selection import train_test_split\n",
    "from sklearn.metrics import confusion_matrix\n",
    "import pandas as pd\n",
    "\n",
    "df = pd.read_csv(r'E:\\HSI\\White paper\\Datasets\\UCI\\Predict whether the cancer is benign or malignant\\cancer data.csv')\n",
    "\n",
    "y = df['diagnosis'].values\n",
    "X = df[df.columns[2:32]]\n",
    "\n",
    "clf = SVC()\n",
    "\n",
    "X_train, X_test, y_train, y_test = train_test_split(X, y, test_size=0.30, random_state=42)\n",
    "\n",
    "clf.fit(X_train, y_train)\n",
    "y_pred = clf.predict(X_test)\n",
    "\n",
    "conf = confusion_matrix(y_pred, y_test)\n",
    "print(conf)\n",
    "\n",
    "# Print the accuracy\n",
    "print(clf.score(X_test, y_test))\n",
    "\n",
    "X_new = [[14, 21, 91, 578, 0.12, 0.17, 0.094, 0.06, 0.22, 0.075, 0.58, 1.38, 3.86, 50.96, 0.009, 0.03, 0.025, 0.015, 0.015, 0.005, 17.2, 28.2, 111, 898, 0.166, 0.369, 0.268, 0.156, 0.32, 0.115]]\n",
    "\n",
    "new_prediction = clf.predict(X_new)\n",
    "print(\"Prediction: {}\".format(new_prediction))\n",
    "\n"
   ]
  },
  {
   "cell_type": "code",
   "execution_count": 4,
   "metadata": {},
   "outputs": [
    {
     "name": "stdout",
     "output_type": "stream",
     "text": [
      "[[106   4]\n",
      " [  2  59]]\n",
      "0.9649122807017544\n",
      "Prediction: ['M']\n"
     ]
    }
   ],
   "source": [
    "#Approach 3: Solve using Random Forest\n",
    "\n",
    "from sklearn.ensemble import RandomForestClassifier\n",
    "from sklearn.model_selection import train_test_split\n",
    "from sklearn.metrics import confusion_matrix\n",
    "import pandas as pd\n",
    "\n",
    "df = pd.read_csv(r'E:\\HSI\\White paper\\Datasets\\UCI\\Predict whether the cancer is benign or malignant\\cancer data.csv')\n",
    "\n",
    "y = df['diagnosis'].values\n",
    "X = df[df.columns[2:32]]\n",
    "\n",
    "rfc = RandomForestClassifier()\n",
    "\n",
    "X_train, X_test, y_train, y_test = train_test_split(X, y, test_size=0.30, random_state=42)\n",
    "\n",
    "rfc.fit(X_train, y_train)\n",
    "y_pred = rfc.predict(X_test)\n",
    "\n",
    "conf = confusion_matrix(y_pred, y_test)\n",
    "print(conf)\n",
    "\n",
    "# Print the accuracy\n",
    "print(rfc.score(X_test, y_test))\n",
    "\n",
    "X_new = [[14, 21, 91, 578, 0.12, 0.17, 0.094, 0.06, 0.22, 0.075, 0.58, 1.38, 3.86, 50.96, 0.009, 0.03, 0.025, 0.015, 0.015, 0.005, 17.2, 28.2, 111, 898, 0.166, 0.369, 0.268, 0.156, 0.32, 0.115]]\n",
    "\n",
    "new_prediction = rfc.predict(X_new)\n",
    "print(\"Prediction: {}\".format(new_prediction))\n",
    "\n"
   ]
  },
  {
   "cell_type": "code",
   "execution_count": 6,
   "metadata": {},
   "outputs": [
    {
     "name": "stdout",
     "output_type": "stream",
     "text": [
      "[[101   3]\n",
      " [  7  60]]\n",
      "0.9415204678362573\n",
      "Prediction: ['M']\n"
     ]
    }
   ],
   "source": [
    "#Approach 4: Solve using Decision Tree\n",
    "\n",
    "from sklearn.tree import DecisionTreeClassifier\n",
    "from sklearn.model_selection import train_test_split\n",
    "from sklearn.metrics import confusion_matrix\n",
    "import pandas as pd\n",
    "\n",
    "df = pd.read_csv(r'E:\\HSI\\White paper\\Datasets\\UCI\\Predict whether the cancer is benign or malignant\\cancer data.csv')\n",
    "\n",
    "y = df['diagnosis'].values\n",
    "X = df[df.columns[2:32]]\n",
    "\n",
    "dtc = DecisionTreeClassifier()\n",
    "\n",
    "X_train, X_test, y_train, y_test = train_test_split(X, y, test_size=0.30, random_state=42)\n",
    "\n",
    "dtc.fit(X_train, y_train)\n",
    "y_pred = dtc.predict(X_test)\n",
    "\n",
    "conf = confusion_matrix(y_pred, y_test)\n",
    "print(conf)\n",
    "\n",
    "# Print the accuracy\n",
    "print(dtc.score(X_test, y_test))\n",
    "\n",
    "X_new = [[14, 21, 91, 578, 0.12, 0.17, 0.094, 0.06, 0.22, 0.075, 0.58, 1.38, 3.86, 50.96, 0.009, 0.03, 0.025, 0.015, 0.015, 0.005, 17.2, 28.2, 111, 898, 0.166, 0.369, 0.268, 0.156, 0.32, 0.115]]\n",
    "\n",
    "new_prediction = dtc.predict(X_new)\n",
    "print(\"Prediction: {}\".format(new_prediction))"
   ]
  },
  {
   "cell_type": "code",
   "execution_count": null,
   "metadata": {},
   "outputs": [],
   "source": []
  }
 ],
 "metadata": {
  "kernelspec": {
   "display_name": "Python 3",
   "language": "python",
   "name": "python3"
  },
  "language_info": {
   "codemirror_mode": {
    "name": "ipython",
    "version": 3
   },
   "file_extension": ".py",
   "mimetype": "text/x-python",
   "name": "python",
   "nbconvert_exporter": "python",
   "pygments_lexer": "ipython3",
   "version": "3.6.5"
  }
 },
 "nbformat": 4,
 "nbformat_minor": 2
}
